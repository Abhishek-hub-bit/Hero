{
  "cells": [
    {
      "cell_type": "markdown",
      "metadata": {
        "id": "view-in-github",
        "colab_type": "text"
      },
      "source": [
        "<a href=\"https://colab.research.google.com/github/Abhishek-hub-bit/Hero/blob/main/Welcome_To_Colab.ipynb\" target=\"_parent\"><img src=\"https://colab.research.google.com/assets/colab-badge.svg\" alt=\"Open In Colab\"/></a>"
      ]
    },
    {
      "cell_type": "code",
      "source": [
        "import hashlib\n",
        "import json\n",
        "import os\n",
        "import pandas as pd   # for reading CSV\n",
        "\n",
        "HASH_FILE = \"file_hashes.json\"\n",
        "\n",
        "def calculate_hash(file_path):\n",
        "    \"\"\"Calculate SHA256 hash of a file (binary mode).\"\"\"\n",
        "    sha256 = hashlib.sha256()\n",
        "    try:\n",
        "        with open(file_path, \"rb\") as f:\n",
        "            for block in iter(lambda: f.read(4096), b\"\"):\n",
        "                sha256.update(block)\n",
        "        return sha256.hexdigest()\n",
        "    except FileNotFoundError:\n",
        "        print(f\"[ERROR] File not found: {file_path}\")\n",
        "        return None\n",
        "\n",
        "def load_hashes():\n",
        "    \"\"\"Load previously stored hashes.\"\"\"\n",
        "    if os.path.exists(HASH_FILE):\n",
        "        with open(HASH_FILE, \"r\") as f:\n",
        "            return json.load(f)\n",
        "    return {}\n",
        "\n",
        "def save_hashes(hashes):\n",
        "    \"\"\"Save hashes to file.\"\"\"\n",
        "    with open(HASH_FILE, \"w\") as f:\n",
        "        json.dump(hashes, f, indent=4)\n",
        "\n",
        "def monitor_csv(file_path):\n",
        "    \"\"\"Monitor changes in a single CSV file.\"\"\"\n",
        "    stored_hashes = load_hashes()\n",
        "    current_hash = calculate_hash(file_path)\n",
        "\n",
        "    if current_hash:\n",
        "        if file_path in stored_hashes:\n",
        "            if stored_hashes[file_path] == current_hash:\n",
        "                print(f\"[OK] No change: {file_path}\")\n",
        "            else:\n",
        "                print(f\"[WARNING] Modified: {file_path}\")\n",
        "        else:\n",
        "            print(f\"[NEW] Added to monitoring: {file_path}\")\n",
        "\n",
        "        # Update stored hash\n",
        "        stored_hashes[file_path] = current_hash\n",
        "        save_hashes(stored_hashes)\n",
        "\n",
        "        # ✅ Read and display CSV content\n",
        "        print(\"\\n[INFO] Preview of CSV file:\")\n",
        "        try:\n",
        "            df = pd.read_csv(file_path)  # <-- FIXED: use the given path\n",
        "            print(df.head())  # show first 5 rows\n",
        "        except Exception as e:\n",
        "            print(f\"[ERROR] Could not read CSV: {e}\")\n",
        "\n",
        "if __name__ == \"__main__\":\n",
        "\n",
        "\n",
        "    csv_file = input(\"Enter path to CSV file: \").strip()\n",
        "    monitor_csv(csv_file)\n"
      ],
      "metadata": {
        "colab": {
          "base_uri": "https://localhost:8080/"
        },
        "id": "4bVnGNjW7awR",
        "outputId": "212c38a7-76d5-4d64-ad24-0e1b71a3d7a2"
      },
      "execution_count": 14,
      "outputs": [
        {
          "output_type": "stream",
          "name": "stdout",
          "text": [
            "Enter path to CSV file: /content/spam.csv\n",
            "[OK] No change: /content/spam.csv\n",
            "\n",
            "[INFO] Preview of CSV file:\n",
            "[ERROR] Could not read CSV: 'utf-8' codec can't decode bytes in position 606-607: invalid continuation byte\n"
          ]
        }
      ]
    },
    {
      "cell_type": "code",
      "source": [],
      "metadata": {
        "id": "ls72dnW08eji"
      },
      "execution_count": 11,
      "outputs": []
    }
  ],
  "metadata": {
    "colab": {
      "name": "Welcome To Colab",
      "provenance": [],
      "include_colab_link": true
    },
    "kernelspec": {
      "display_name": "Python 3",
      "name": "python3"
    }
  },
  "nbformat": 4,
  "nbformat_minor": 0
}